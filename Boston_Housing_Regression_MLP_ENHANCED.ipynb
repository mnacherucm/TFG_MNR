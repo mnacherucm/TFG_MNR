{
 "cells": [
  {
   "cell_type": "markdown",
   "id": "e7a57c19",
   "metadata": {},
   "source": [
    "# Regresión con MLP en el dataset Boston Housing\n",
    "Este experimento compara distintas configuraciones de redes neuronales y funciones de pérdida para predecir el precio de viviendas en el área de Boston. Incluye comparación entre `MAE` y `MSE`, evaluación con `R²`, análisis de overfitting y exploración de arquitecturas."
   ]
  },
  {
   "cell_type": "markdown",
   "id": "a89bf49a",
   "metadata": {},
   "source": [
    "## 1. Preparación del dataset"
   ]
  },
  {
   "cell_type": "code",
   "execution_count": null,
   "id": "28b155d8",
   "metadata": {},
   "outputs": [],
   "source": [
    "from sklearn.datasets import fetch_california_housing\n",
    "from sklearn.model_selection import train_test_split\n",
    "from sklearn.preprocessing import StandardScaler\n",
    "from sklearn.metrics import mean_absolute_error, mean_squared_error, r2_score\n",
    "import numpy as np\n",
    "\n",
    "data = fetch_california_housing()\n",
    "X, y = data.data, data.target\n",
    "\n",
    "X_train, X_test, y_train, y_test = train_test_split(X, y, test_size=0.2, random_state=42)\n",
    "scaler = StandardScaler()\n",
    "X_train = scaler.fit_transform(X_train)\n",
    "X_test = scaler.transform(X_test)"
   ]
  },
  {
   "cell_type": "markdown",
   "id": "925ef1ac",
   "metadata": {},
   "source": [
    "## 2. Comparación entre funciones de pérdida: MAE vs MSE"
   ]
  },
  {
   "cell_type": "code",
   "execution_count": null,
   "id": "15ac3876",
   "metadata": {},
   "outputs": [],
   "source": [
    "from tensorflow.keras.models import Sequential\n",
    "from tensorflow.keras.layers import Dense\n",
    "from tensorflow.keras.optimizers import Adam\n",
    "\n",
    "def build_model(loss_fn):\n",
    "    model = Sequential([\n",
    "        Dense(64, activation='relu', input_shape=(X_train.shape[1],)),\n",
    "        Dense(32, activation='relu'),\n",
    "        Dense(1)\n",
    "    ])\n",
    "    model.compile(optimizer=Adam(0.01), loss=loss_fn, metrics=['mae'])\n",
    "    return model\n",
    "\n",
    "model_mse = build_model('mse')\n",
    "history_mse = model_mse.fit(X_train, y_train, validation_data=(X_test, y_test), epochs=50, batch_size=32, verbose=0)\n",
    "\n",
    "model_mae = build_model('mae')\n",
    "history_mae = model_mae.fit(X_train, y_train, validation_data=(X_test, y_test), epochs=50, batch_size=32, verbose=0)"
   ]
  },
  {
   "cell_type": "markdown",
   "id": "dc4596a7",
   "metadata": {},
   "source": [
    "## 3. Análisis de overfitting"
   ]
  },
  {
   "cell_type": "code",
   "execution_count": null,
   "id": "e2bc0cc4",
   "metadata": {},
   "outputs": [],
   "source": [
    "import matplotlib.pyplot as plt\n",
    "\n",
    "plt.figure(figsize=(12, 5))\n",
    "plt.subplot(1, 2, 1)\n",
    "plt.plot(history_mse.history['loss'], label='MSE - Train')\n",
    "plt.plot(history_mse.history['val_loss'], label='MSE - Val')\n",
    "plt.plot(history_mae.history['loss'], label='MAE - Train')\n",
    "plt.plot(history_mae.history['val_loss'], label='MAE - Val')\n",
    "plt.title('Evolución de la pérdida')\n",
    "plt.xlabel('Épocas')\n",
    "plt.ylabel('Pérdida')\n",
    "plt.legend()\n",
    "plt.grid(True)\n",
    "\n",
    "plt.subplot(1, 2, 2)\n",
    "plt.plot(history_mse.history['mae'], label='MSE - Train MAE')\n",
    "plt.plot(history_mse.history['val_mae'], label='MSE - Val MAE')\n",
    "plt.plot(history_mae.history['mae'], label='MAE - Train MAE')\n",
    "plt.plot(history_mae.history['val_mae'], label='MAE - Val MAE')\n",
    "plt.title('Evolución del MAE')\n",
    "plt.xlabel('Épocas')\n",
    "plt.ylabel('MAE')\n",
    "plt.legend()\n",
    "plt.grid(True)\n",
    "plt.tight_layout()\n",
    "plt.show()"
   ]
  },
  {
   "cell_type": "markdown",
   "id": "8bc0eaa6",
   "metadata": {},
   "source": [
    "## 4. Evaluación final en test set"
   ]
  },
  {
   "cell_type": "code",
   "execution_count": null,
   "id": "572420e5",
   "metadata": {},
   "outputs": [],
   "source": [
    "# Evaluación con distintas métricas\n",
    "for name, model in [('MSE', model_mse), ('MAE', model_mae)]:\n",
    "    y_pred = model.predict(X_test).flatten()\n",
    "    print(f'--- Evaluación con función de pérdida: {name} ---')\n",
    "    print(f'MAE: {mean_absolute_error(y_test, y_pred):.4f}')\n",
    "    print(f'MSE: {mean_squared_error(y_test, y_pred):.4f}')\n",
    "    print(f'RMSE: {np.sqrt(mean_squared_error(y_test, y_pred)):.4f}')\n",
    "    print(f'R²: {r2_score(y_test, y_pred):.4f}\\n')"
   ]
  }
 ],
 "metadata": {},
 "nbformat": 4,
 "nbformat_minor": 5
}
