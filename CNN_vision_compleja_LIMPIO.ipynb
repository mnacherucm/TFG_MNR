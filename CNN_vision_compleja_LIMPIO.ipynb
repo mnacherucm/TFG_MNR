{
 "cells": [
  {
   "cell_type": "markdown",
   "id": "438cde7f",
   "metadata": {},
   "source": [
    "# CNN en visión compleja\n",
    "Este notebook compara dos redes convolucionales aplicadas a conjuntos de imágenes más complejas que MNIST:\n",
    "\n",
    "- **CIFAR-10**: 10 clases generales de objetos cotidianos.\n",
    "- **Traffic Sign (GTSRB)**: clasificación de señales de tráfico.\n",
    "\n",
    "El objetivo es mostrar cómo las CNN pueden escalar a problemas reales más exigentes."
   ]
  },
  {
   "cell_type": "markdown",
   "id": "add47807",
   "metadata": {},
   "source": [
    "## 1. CNN en CIFAR-10"
   ]
  },
  {
   "cell_type": "code",
   "execution_count": null,
   "id": "6ac20711",
   "metadata": {},
   "outputs": [],
   "source": [
    "from tensorflow.keras.datasets import cifar10\n",
    "from tensorflow.keras.utils import to_categorical\n",
    "from tensorflow.keras.models import Sequential\n",
    "from tensorflow.keras.layers import Conv2D, MaxPooling2D, Flatten, Dense, Dropout\n",
    "\n",
    "(X_train_cifar, y_train_cifar), (X_test_cifar, y_test_cifar) = cifar10.load_data()\n",
    "X_train_cifar, X_test_cifar = X_train_cifar / 255.0, X_test_cifar / 255.0\n",
    "y_train_cifar = to_categorical(y_train_cifar, 10)\n",
    "y_test_cifar = to_categorical(y_test_cifar, 10)"
   ]
  },
  {
   "cell_type": "code",
   "execution_count": null,
   "id": "df100984",
   "metadata": {},
   "outputs": [],
   "source": [
    "model_cifar = Sequential([\n",
    "    Conv2D(32, (3, 3), activation='relu', input_shape=(32, 32, 3)),\n",
    "    MaxPooling2D((2, 2)),\n",
    "    Conv2D(64, (3, 3), activation='relu'),\n",
    "    MaxPooling2D((2, 2)),\n",
    "    Flatten(),\n",
    "    Dense(128, activation='relu'),\n",
    "    Dropout(0.5),\n",
    "    Dense(10, activation='softmax')\n",
    "])"
   ]
  },
  {
   "cell_type": "code",
   "execution_count": null,
   "id": "831872f7",
   "metadata": {},
   "outputs": [],
   "source": [
    "model_cifar.compile(optimizer='adam', loss='categorical_crossentropy', metrics=['accuracy'])\n",
    "history_cifar = model_cifar.fit(X_train_cifar, y_train_cifar, epochs=10, validation_data=(X_test_cifar, y_test_cifar), verbose=0)"
   ]
  },
  {
   "cell_type": "markdown",
   "id": "194fa50b",
   "metadata": {},
   "source": [
    "## 2. CNN en señales de tráfico (GTSRB)"
   ]
  },
  {
   "cell_type": "code",
   "execution_count": null,
   "id": "8f571859",
   "metadata": {},
   "outputs": [],
   "source": [
    "import tensorflow_datasets as tfds\n",
    "import tensorflow as tf\n",
    "\n",
    "(ds_train_gtsrb, ds_test_gtsrb), ds_info = tfds.load(\n",
    "    'gtsrb',\n",
    "    split=['train[:80%]', 'train[80%:]'],\n",
    "    as_supervised=True,\n",
    "    with_info=True\n",
    ")\n",
    "\n",
    "def preprocess_gtsrb(image, label):\n",
    "    image = tf.image.resize(image, [32, 32]) / 255.0\n",
    "    return image, label\n",
    "\n",
    "ds_train_gtsrb = ds_train_gtsrb.map(preprocess_gtsrb).batch(128).prefetch(1)\n",
    "ds_test_gtsrb = ds_test_gtsrb.map(preprocess_gtsrb).batch(128).prefetch(1)\n",
    "\n",
    "model_gtsrb = Sequential([\n",
    "    Conv2D(32, (3, 3), activation='relu', input_shape=(32, 32, 3)),\n",
    "    MaxPooling2D((2, 2)),\n",
    "    Conv2D(64, (3, 3), activation='relu'),\n",
    "    MaxPooling2D((2, 2)),\n",
    "    Flatten(),\n",
    "    Dense(128, activation='relu'),\n",
    "    Dropout(0.5),\n",
    "    Dense(43, activation='softmax')\n",
    "])\n",
    "model_gtsrb.compile(optimizer='adam', loss='sparse_categorical_crossentropy', metrics=['accuracy'])\n",
    "history_gtsrb = model_gtsrb.fit(ds_train_gtsrb, epochs=10, validation_data=ds_test_gtsrb, verbose=0)"
   ]
  },
  {
   "cell_type": "markdown",
   "id": "bfedf92d",
   "metadata": {},
   "source": [
    "## 3. Comparación visual de resultados"
   ]
  },
  {
   "cell_type": "code",
   "execution_count": null,
   "id": "e3fddc7a",
   "metadata": {},
   "outputs": [],
   "source": [
    "import matplotlib.pyplot as plt\n",
    "\n",
    "plt.figure(figsize=(10, 5))\n",
    "plt.plot(history_cifar.history['val_accuracy'], label='CIFAR-10')\n",
    "plt.plot(history_gtsrb.history['val_accuracy'], label='GTSRB')\n",
    "plt.title('Precisión de validación por dataset (CNN)')\n",
    "plt.xlabel('Épocas')\n",
    "plt.ylabel('Precisión')\n",
    "plt.legend()\n",
    "plt.grid(True)\n",
    "plt.tight_layout()\n",
    "plt.show()"
   ]
  }
 ],
 "metadata": {},
 "nbformat": 4,
 "nbformat_minor": 5
}
