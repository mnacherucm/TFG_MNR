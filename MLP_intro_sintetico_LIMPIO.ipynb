{
 "cells": [
  {
   "cell_type": "markdown",
   "id": "df54e20b",
   "metadata": {},
   "source": [
    "# Redes neuronales simples\n",
    "Este notebook compara tres arquitecturas básicas:\n",
    "- Red de 1 capa (binaria)\n",
    "- Red de 2 capas (binaria)\n",
    "- Red de 2 capas (multiclase)\n",
    "\n",
    "Se utilizan datasets sintéticos y se grafican los resultados."
   ]
  },
  {
   "cell_type": "markdown",
   "id": "ece73e40",
   "metadata": {},
   "source": [
    "## Dataset binario sintético"
   ]
  },
  {
   "cell_type": "code",
   "execution_count": null,
   "id": "bb43303d",
   "metadata": {},
   "outputs": [],
   "source": [
    "from sklearn.datasets import make_classification\n",
    "from sklearn.model_selection import train_test_split\n",
    "from sklearn.preprocessing import StandardScaler\n",
    "\n",
    "X, y = make_classification(n_samples=1000, n_features=10, n_informative=5, n_redundant=0, n_classes=2, random_state=42)\n",
    "X_train, X_test, y_train, y_test = train_test_split(X, y, test_size=0.2, random_state=42)\n",
    "scaler = StandardScaler()\n",
    "X_train = scaler.fit_transform(X_train)\n",
    "X_test = scaler.transform(X_test)"
   ]
  },
  {
   "cell_type": "markdown",
   "id": "5cc1ee42",
   "metadata": {},
   "source": [
    "### Modelo 1: Red de una capa (clasificación binaria)"
   ]
  },
  {
   "cell_type": "code",
   "execution_count": null,
   "id": "8c7980da",
   "metadata": {},
   "outputs": [],
   "source": [
    "from tensorflow.keras.models import Sequential\n",
    "from tensorflow.keras.layers import Dense\n",
    "\n",
    "model_1 = Sequential([\n",
    "    Dense(1, activation='sigmoid', input_shape=(X_train.shape[1],))\n",
    "])\n",
    "model_1.compile(optimizer='adam', loss='binary_crossentropy', metrics=['accuracy'])\n",
    "history_1 = model_1.fit(X_train, y_train, epochs=20, batch_size=32, validation_data=(X_test, y_test), verbose=0)"
   ]
  },
  {
   "cell_type": "markdown",
   "id": "b3253dc8",
   "metadata": {},
   "source": [
    "### Modelo 2: Red de dos capas (clasificación binaria)"
   ]
  },
  {
   "cell_type": "code",
   "execution_count": null,
   "id": "0e83bb6c",
   "metadata": {},
   "outputs": [],
   "source": [
    "model_2 = Sequential([\n",
    "    Dense(16, activation='relu', input_shape=(X_train.shape[1],)),\n",
    "    Dense(1, activation='sigmoid')\n",
    "])\n",
    "model_2.compile(optimizer='adam', loss='binary_crossentropy', metrics=['accuracy'])\n",
    "history_2 = model_2.fit(X_train, y_train, epochs=20, batch_size=32, validation_data=(X_test, y_test), verbose=0)"
   ]
  },
  {
   "cell_type": "markdown",
   "id": "69ca8767",
   "metadata": {},
   "source": [
    "## Dataset multiclase sintético"
   ]
  },
  {
   "cell_type": "code",
   "execution_count": null,
   "id": "f2f5f8f5",
   "metadata": {},
   "outputs": [],
   "source": [
    "X_mc, y_mc = make_classification(n_samples=1000, n_features=10, n_informative=5, n_redundant=0, n_classes=3, n_clusters_per_class=1, random_state=42)\n",
    "X_mc_train, X_mc_test, y_mc_train, y_mc_test = train_test_split(X_mc, y_mc, test_size=0.2, random_state=42)\n",
    "scaler_mc = StandardScaler()\n",
    "X_mc_train = scaler_mc.fit_transform(X_mc_train)\n",
    "X_mc_test = scaler_mc.transform(X_mc_test)\n",
    "\n",
    "from tensorflow.keras.utils import to_categorical\n",
    "y_mc_train_cat = to_categorical(y_mc_train)\n",
    "y_mc_test_cat = to_categorical(y_mc_test)"
   ]
  },
  {
   "cell_type": "markdown",
   "id": "5da303c4",
   "metadata": {},
   "source": [
    "### Modelo 3: Red de dos capas (clasificación multiclase)"
   ]
  },
  {
   "cell_type": "code",
   "execution_count": null,
   "id": "c941d979",
   "metadata": {},
   "outputs": [],
   "source": [
    "model_3 = Sequential([\n",
    "    Dense(32, activation='relu', input_shape=(X_mc_train.shape[1],)),\n",
    "    Dense(3, activation='softmax')\n",
    "])\n",
    "model_3.compile(optimizer='adam', loss='categorical_crossentropy', metrics=['accuracy'])\n",
    "history_3 = model_3.fit(X_mc_train, y_mc_train_cat, epochs=20, batch_size=32, validation_data=(X_mc_test, y_mc_test_cat), verbose=0)"
   ]
  },
  {
   "cell_type": "markdown",
   "id": "acd3793d",
   "metadata": {},
   "source": [
    "## Comparativa de precisión en validación"
   ]
  },
  {
   "cell_type": "code",
   "execution_count": null,
   "id": "69a01046",
   "metadata": {},
   "outputs": [],
   "source": [
    "import matplotlib.pyplot as plt\n",
    "\n",
    "plt.figure(figsize=(10, 5))\n",
    "plt.plot(history_1.history['val_accuracy'], label='1 capa binaria')\n",
    "plt.plot(history_2.history['val_accuracy'], label='2 capas binaria')\n",
    "plt.plot(history_3.history['val_accuracy'], label='2 capas multiclase')\n",
    "plt.title('Precisión de validación por modelo')\n",
    "plt.xlabel('Épocas')\n",
    "plt.ylabel('Precisión')\n",
    "plt.legend()\n",
    "plt.grid(True)\n",
    "plt.tight_layout()\n",
    "plt.show()"
   ]
  }
 ],
 "metadata": {},
 "nbformat": 4,
 "nbformat_minor": 5
}
